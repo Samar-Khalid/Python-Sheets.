{
 "cells": [
  {
   "cell_type": "markdown",
   "id": "0e73d823",
   "metadata": {},
   "source": [
    "### 18. Write a Python script to check if a given key already exists in a dictionary.\n",
    "#### Sample Dictionary:   {1: 1, 2: 4, 3: 9, 4: 16, 5: 25, 6: 36, 7: 49, 8: 64, 9: 81, 10: 100, 11: 121, 12: 144, 13: 169, 14: 196, 15: 225}"
   ]
  },
  {
   "cell_type": "code",
   "execution_count": 23,
   "id": "9d841560",
   "metadata": {},
   "outputs": [],
   "source": [
    "d={1: 1, 2: 4, 3: 9, 4: 16, 5: 25, 6: 36, 7: 49, 8: 64, 9: 81, 10: 100, 11: 121, 12: 144, 13: 169, 14: 196, 15: 225}"
   ]
  },
  {
   "cell_type": "code",
   "execution_count": 24,
   "id": "83785793",
   "metadata": {},
   "outputs": [
    {
     "name": "stdout",
     "output_type": "stream",
     "text": [
      "Please enter the target key:  20\n"
     ]
    }
   ],
   "source": [
    "k=int(input(\"Please enter the target key:  \"))"
   ]
  },
  {
   "cell_type": "code",
   "execution_count": 25,
   "id": "791fdfaf",
   "metadata": {},
   "outputs": [
    {
     "name": "stdout",
     "output_type": "stream",
     "text": [
      "The key doesnot exist in a dictionary.\n"
     ]
    }
   ],
   "source": [
    "flag=False\n",
    "for i in d.keys():\n",
    "    if k==i:\n",
    "        flag=True\n",
    "        break\n",
    "\n",
    "if flag==True:\n",
    "    print(\"The key already exists in a dictionary.\")\n",
    "else :\n",
    "    print(\"The key doesnot exist in a dictionary.\")\n"
   ]
  },
  {
   "cell_type": "code",
   "execution_count": null,
   "id": "683eb59f",
   "metadata": {},
   "outputs": [],
   "source": []
  }
 ],
 "metadata": {
  "kernelspec": {
   "display_name": "Python 3 (ipykernel)",
   "language": "python",
   "name": "python3"
  },
  "language_info": {
   "codemirror_mode": {
    "name": "ipython",
    "version": 3
   },
   "file_extension": ".py",
   "mimetype": "text/x-python",
   "name": "python",
   "nbconvert_exporter": "python",
   "pygments_lexer": "ipython3",
   "version": "3.9.13"
  }
 },
 "nbformat": 4,
 "nbformat_minor": 5
}
