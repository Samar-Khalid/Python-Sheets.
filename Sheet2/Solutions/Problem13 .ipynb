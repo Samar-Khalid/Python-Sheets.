{
 "cells": [
  {
   "cell_type": "markdown",
   "id": "6ddcb79d",
   "metadata": {},
   "source": [
    "### 13. Write a Python program to count the number of elements in a list within a specified range."
   ]
  },
  {
   "cell_type": "code",
   "execution_count": 31,
   "id": "3a58b1a2",
   "metadata": {},
   "outputs": [
    {
     "name": "stdout",
     "output_type": "stream",
     "text": [
      "Plz, Enter the list: 1,2,3,4,5,6,2,1,0,4,2,52,5,8,2,45,62,31,12\n",
      "Plz, Enter the start of the rang: 2\n",
      "Plz, Enter the end of the rang: 10\n",
      "The number of elements within the range [2, 10] is: 9\n"
     ]
    }
   ],
   "source": [
    "l1 =list(input(\"Plz, Enter the list: \").split(','))\n",
    "l1=[int(x) for x in l1]\n",
    "\n",
    "start=int(input(\"Plz, Enter the start of the rang: \"))\n",
    "end=int(input(\"Plz, Enter the end of the rang: \"))\n",
    "\n",
    "count=end-start+1\n",
    "print(\"The number of elements within the range [{}, {}] is: {}\".format(start, end, count))\n"
   ]
  },
  {
   "cell_type": "code",
   "execution_count": null,
   "id": "64655d4c",
   "metadata": {},
   "outputs": [],
   "source": []
  }
 ],
 "metadata": {
  "kernelspec": {
   "display_name": "Python 3 (ipykernel)",
   "language": "python",
   "name": "python3"
  },
  "language_info": {
   "codemirror_mode": {
    "name": "ipython",
    "version": 3
   },
   "file_extension": ".py",
   "mimetype": "text/x-python",
   "name": "python",
   "nbconvert_exporter": "python",
   "pygments_lexer": "ipython3",
   "version": "3.9.13"
  }
 },
 "nbformat": 4,
 "nbformat_minor": 5
}
