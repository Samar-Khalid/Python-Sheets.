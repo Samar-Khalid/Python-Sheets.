{
 "cells": [
  {
   "cell_type": "markdown",
   "id": "4b908bcc",
   "metadata": {},
   "source": [
    "### 2. Write a Python program to display the first and last colors from the following list. color_list = [\"Red\", \"Green\", \"White\" , \"Black\"]."
   ]
  },
  {
   "cell_type": "code",
   "execution_count": 4,
   "id": "75b3c64f",
   "metadata": {},
   "outputs": [
    {
     "name": "stdout",
     "output_type": "stream",
     "text": [
      "First color: Red\n",
      "Last color: Black\n"
     ]
    }
   ],
   "source": [
    "color_list = [\"Red\", \"Green\", \"White\" , \"Black\"]\n",
    "\n",
    "print(\"First color:\", color_list[0])\n",
    "print(\"Last color:\", color_list[-1])"
   ]
  },
  {
   "cell_type": "code",
   "execution_count": null,
   "id": "c2c0209e",
   "metadata": {},
   "outputs": [],
   "source": []
  },
  {
   "cell_type": "code",
   "execution_count": null,
   "id": "4b3e3c74",
   "metadata": {},
   "outputs": [],
   "source": []
  },
  {
   "cell_type": "code",
   "execution_count": null,
   "id": "7adf11b3",
   "metadata": {},
   "outputs": [],
   "source": []
  }
 ],
 "metadata": {
  "kernelspec": {
   "display_name": "Python 3 (ipykernel)",
   "language": "python",
   "name": "python3"
  },
  "language_info": {
   "codemirror_mode": {
    "name": "ipython",
    "version": 3
   },
   "file_extension": ".py",
   "mimetype": "text/x-python",
   "name": "python",
   "nbconvert_exporter": "python",
   "pygments_lexer": "ipython3",
   "version": "3.9.13"
  }
 },
 "nbformat": 4,
 "nbformat_minor": 5
}
