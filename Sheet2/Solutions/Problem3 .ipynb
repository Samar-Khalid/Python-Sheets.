{
 "cells": [
  {
   "cell_type": "markdown",
   "id": "4b908bcc",
   "metadata": {},
   "source": [
    "### 3. Write a Python program to check whether a specified value is contained in a group of values.                     Test Data :             3 -> [1, 5, 8, 3] : True                         -1 -> [1, 5, 8, 3] : False"
   ]
  },
  {
   "cell_type": "code",
   "execution_count": 6,
   "id": "75b3c64f",
   "metadata": {},
   "outputs": [
    {
     "name": "stdout",
     "output_type": "stream",
     "text": [
      "Plz, Enter list of numbers: 1,5,8,3\n",
      "Plz, Enter a number you want to test: -1\n"
     ]
    }
   ],
   "source": [
    "#accept the list from user\n",
    "numbers_list =input(\"Plz, Enter list of numbers: \").split(',')\n",
    "\n",
    "#To convert list from string into intger\n",
    "numbers_list=[int(x) for x in numbers_list]\n",
    "\n",
    "#accept the number from user\n",
    "number_test=int(input(\"Plz, Enter a number you want to test: \"))"
   ]
  },
  {
   "cell_type": "code",
   "execution_count": 7,
   "id": "c2c0209e",
   "metadata": {},
   "outputs": [
    {
     "name": "stdout",
     "output_type": "stream",
     "text": [
      "False\n"
     ]
    }
   ],
   "source": [
    "if number_test in numbers_list :\n",
    "    print(True)\n",
    "else:\n",
    "    print(False)"
   ]
  },
  {
   "cell_type": "code",
   "execution_count": null,
   "id": "4b3e3c74",
   "metadata": {},
   "outputs": [],
   "source": []
  },
  {
   "cell_type": "code",
   "execution_count": null,
   "id": "7adf11b3",
   "metadata": {},
   "outputs": [],
   "source": []
  }
 ],
 "metadata": {
  "kernelspec": {
   "display_name": "Python 3 (ipykernel)",
   "language": "python",
   "name": "python3"
  },
  "language_info": {
   "codemirror_mode": {
    "name": "ipython",
    "version": 3
   },
   "file_extension": ".py",
   "mimetype": "text/x-python",
   "name": "python",
   "nbconvert_exporter": "python",
   "pygments_lexer": "ipython3",
   "version": "3.9.13"
  }
 },
 "nbformat": 4,
 "nbformat_minor": 5
}
