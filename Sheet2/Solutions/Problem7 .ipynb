{
 "cells": [
  {
   "cell_type": "markdown",
   "id": "10f0aba5",
   "metadata": {},
   "source": [
    "### 7. Write a Python program to sum all the items in a list."
   ]
  },
  {
   "cell_type": "code",
   "execution_count": 4,
   "id": "b110dcf7",
   "metadata": {},
   "outputs": [
    {
     "name": "stdout",
     "output_type": "stream",
     "text": [
      "Plz, Enter the list: 1,2,3,4,5\n"
     ]
    }
   ],
   "source": [
    "#accept the list from user\n",
    "l1 =input(\"Plz, Enter the list: \").split(',')\n",
    "l1=[int(x) for x in l1]\n",
    "sum=0"
   ]
  },
  {
   "cell_type": "code",
   "execution_count": 5,
   "id": "14caa984",
   "metadata": {},
   "outputs": [
    {
     "name": "stdout",
     "output_type": "stream",
     "text": [
      "15\n"
     ]
    }
   ],
   "source": [
    "for i in l1:\n",
    "    sum=sum+i\n",
    "\n",
    "print(sum)"
   ]
  },
  {
   "cell_type": "code",
   "execution_count": null,
   "id": "f0321ff4",
   "metadata": {},
   "outputs": [],
   "source": []
  }
 ],
 "metadata": {
  "kernelspec": {
   "display_name": "Python 3 (ipykernel)",
   "language": "python",
   "name": "python3"
  },
  "language_info": {
   "codemirror_mode": {
    "name": "ipython",
    "version": 3
   },
   "file_extension": ".py",
   "mimetype": "text/x-python",
   "name": "python",
   "nbconvert_exporter": "python",
   "pygments_lexer": "ipython3",
   "version": "3.9.13"
  }
 },
 "nbformat": 4,
 "nbformat_minor": 5
}
