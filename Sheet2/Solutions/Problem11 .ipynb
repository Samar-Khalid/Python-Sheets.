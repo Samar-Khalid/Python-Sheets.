{
 "cells": [
  {
   "cell_type": "markdown",
   "id": "50f3d869",
   "metadata": {},
   "source": [
    "### 11. Write a Python program to shuffle and print a specified list."
   ]
  },
  {
   "cell_type": "code",
   "execution_count": 6,
   "id": "74e582b8",
   "metadata": {},
   "outputs": [
    {
     "name": "stdout",
     "output_type": "stream",
     "text": [
      "Plz, Enter a list: 5,4,7,8,5\n",
      "[5, 7, 8, 4, 5]\n"
     ]
    }
   ],
   "source": [
    "import random\n",
    "\n",
    "# Accept a string from user\n",
    "lst=list(input(\"Plz, Enter a list: \").split(','))\n",
    "\n",
    "# To convert digits from string to integer\n",
    "lst=[int(x) for x in lst]\n",
    "\n",
    "# To shuffle a list\n",
    "random.shuffle(lst)   \n",
    "\n",
    "print(lst)"
   ]
  },
  {
   "cell_type": "code",
   "execution_count": null,
   "id": "23193538",
   "metadata": {},
   "outputs": [],
   "source": []
  },
  {
   "cell_type": "code",
   "execution_count": null,
   "id": "9338983c",
   "metadata": {},
   "outputs": [],
   "source": []
  }
 ],
 "metadata": {
  "kernelspec": {
   "display_name": "Python 3 (ipykernel)",
   "language": "python",
   "name": "python3"
  },
  "language_info": {
   "codemirror_mode": {
    "name": "ipython",
    "version": 3
   },
   "file_extension": ".py",
   "mimetype": "text/x-python",
   "name": "python",
   "nbconvert_exporter": "python",
   "pygments_lexer": "ipython3",
   "version": "3.9.13"
  }
 },
 "nbformat": 4,
 "nbformat_minor": 5
}
