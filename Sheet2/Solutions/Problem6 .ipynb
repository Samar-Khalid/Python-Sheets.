{
 "cells": [
  {
   "cell_type": "markdown",
   "id": "ea5282f4",
   "metadata": {},
   "source": [
    "### 6. Write a Python program to convert a string in a list."
   ]
  },
  {
   "cell_type": "code",
   "execution_count": 1,
   "id": "58646ca2",
   "metadata": {},
   "outputs": [
    {
     "name": "stdout",
     "output_type": "stream",
     "text": [
      "Plz, Enter the string: samar\n",
      "['s', 'a', 'm', 'a', 'r']\n"
     ]
    }
   ],
   "source": [
    "#accept the sentence from user\n",
    "sentence =input(\"Plz, Enter the string: \")\n",
    "l=[]\n",
    "\n",
    "j=0\n",
    "for i in sentence:\n",
    "    l.append(i)\n",
    "    j=j+1\n",
    "\n",
    "print(l)"
   ]
  },
  {
   "cell_type": "markdown",
   "id": "dc2f4b42",
   "metadata": {},
   "source": [
    "### OR"
   ]
  },
  {
   "cell_type": "code",
   "execution_count": 2,
   "id": "04a66d8b",
   "metadata": {},
   "outputs": [
    {
     "name": "stdout",
     "output_type": "stream",
     "text": [
      "Plz, Enter the string: samar\n",
      "['s', 'a', 'm', 'a', 'r']\n"
     ]
    }
   ],
   "source": [
    "sentence =input(\"Plz, Enter the string: \")\n",
    "l=list(sentence)\n",
    "print(l)"
   ]
  },
  {
   "cell_type": "code",
   "execution_count": null,
   "id": "61f6c0db",
   "metadata": {},
   "outputs": [],
   "source": []
  }
 ],
 "metadata": {
  "kernelspec": {
   "display_name": "Python 3 (ipykernel)",
   "language": "python",
   "name": "python3"
  },
  "language_info": {
   "codemirror_mode": {
    "name": "ipython",
    "version": 3
   },
   "file_extension": ".py",
   "mimetype": "text/x-python",
   "name": "python",
   "nbconvert_exporter": "python",
   "pygments_lexer": "ipython3",
   "version": "3.9.13"
  }
 },
 "nbformat": 4,
 "nbformat_minor": 5
}
