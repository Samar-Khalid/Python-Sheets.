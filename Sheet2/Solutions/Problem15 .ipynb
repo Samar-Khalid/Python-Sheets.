{
 "cells": [
  {
   "cell_type": "markdown",
   "id": "12d1e30c",
   "metadata": {},
   "source": [
    "### 15. Write a Python script to sort (ascending and descending) a dictionary by value"
   ]
  },
  {
   "cell_type": "code",
   "execution_count": 24,
   "id": "0e7f62d3",
   "metadata": {},
   "outputs": [],
   "source": [
    "diction = {'key1': 30 , 'key2': 22 , 'key3': 29 , 'key4': 21 , 'key5': 95 } "
   ]
  },
  {
   "cell_type": "code",
   "execution_count": 25,
   "id": "88dab253",
   "metadata": {},
   "outputs": [
    {
     "name": "stdout",
     "output_type": "stream",
     "text": [
      "{'key1': 30, 'key2': 22, 'key3': 29, 'key4': 21, 'key5': 95}\n"
     ]
    }
   ],
   "source": [
    "print(diction)"
   ]
  },
  {
   "cell_type": "code",
   "execution_count": 26,
   "id": "a9b0bc0c",
   "metadata": {},
   "outputs": [
    {
     "name": "stdout",
     "output_type": "stream",
     "text": [
      "[('key4', 21), ('key2', 22), ('key3', 29), ('key1', 30), ('key5', 95)]\n"
     ]
    }
   ],
   "source": [
    "# sorting the values of dictionary descending \n",
    "print(sorted(diction.items() , key=lambda x:x[1]))"
   ]
  },
  {
   "cell_type": "code",
   "execution_count": 27,
   "id": "569e306c",
   "metadata": {},
   "outputs": [
    {
     "name": "stdout",
     "output_type": "stream",
     "text": [
      "[('key5', 95), ('key1', 30), ('key3', 29), ('key2', 22), ('key4', 21)]\n"
     ]
    }
   ],
   "source": [
    "# sorting the values of dictionary ascending \n",
    "print(sorted(diction.items() , key=lambda x:x[1] , reverse=True))"
   ]
  },
  {
   "cell_type": "code",
   "execution_count": null,
   "id": "d430ceb7",
   "metadata": {},
   "outputs": [],
   "source": []
  }
 ],
 "metadata": {
  "kernelspec": {
   "display_name": "Python 3 (ipykernel)",
   "language": "python",
   "name": "python3"
  },
  "language_info": {
   "codemirror_mode": {
    "name": "ipython",
    "version": 3
   },
   "file_extension": ".py",
   "mimetype": "text/x-python",
   "name": "python",
   "nbconvert_exporter": "python",
   "pygments_lexer": "ipython3",
   "version": "3.9.13"
  }
 },
 "nbformat": 4,
 "nbformat_minor": 5
}
