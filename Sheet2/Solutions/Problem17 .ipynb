{
 "cells": [
  {
   "cell_type": "markdown",
   "id": "e03d7edb",
   "metadata": {},
   "source": [
    "### 17. Write a Python script to concatenate following dictionaries to create a new one.\n",
    "#### Sample Dictionary:\n",
    "#### dic1={1:10, 2:20}  ,  dic2={3:30, 4:40}  ,  dic3={5:50,6:60}\n",
    "#### Expected Result : {1: 10, 2: 20, 3: 30, 4: 40, 5: 50, 6: 60}"
   ]
  },
  {
   "cell_type": "code",
   "execution_count": 52,
   "id": "b408abeb",
   "metadata": {},
   "outputs": [],
   "source": [
    "#Intionalization and Declaratin of Dictionaries\n",
    "dic1={1:10, 2:20} \n",
    "dic2={3:30, 4:40} \n",
    "dic3={5:50, 6:60}"
   ]
  },
  {
   "cell_type": "code",
   "execution_count": 53,
   "id": "de1f31c0",
   "metadata": {},
   "outputs": [],
   "source": [
    "# Concatenate dictionaries in one dictionary \n",
    "dic4=dict(dic1)\n",
    "dic4.update(dic2)\n",
    "dic4.update(dic3)"
   ]
  },
  {
   "cell_type": "code",
   "execution_count": 54,
   "id": "8ad31a85",
   "metadata": {},
   "outputs": [
    {
     "name": "stdout",
     "output_type": "stream",
     "text": [
      "{1: 10, 2: 20, 3: 30, 4: 40, 5: 50, 6: 60}\n"
     ]
    }
   ],
   "source": [
    "# Print the new  dictionary\n",
    "print(dic4)"
   ]
  },
  {
   "cell_type": "code",
   "execution_count": null,
   "id": "802cf8a0",
   "metadata": {},
   "outputs": [],
   "source": []
  }
 ],
 "metadata": {
  "kernelspec": {
   "display_name": "Python 3 (ipykernel)",
   "language": "python",
   "name": "python3"
  },
  "language_info": {
   "codemirror_mode": {
    "name": "ipython",
    "version": 3
   },
   "file_extension": ".py",
   "mimetype": "text/x-python",
   "name": "python",
   "nbconvert_exporter": "python",
   "pygments_lexer": "ipython3",
   "version": "3.9.13"
  }
 },
 "nbformat": 4,
 "nbformat_minor": 5
}
