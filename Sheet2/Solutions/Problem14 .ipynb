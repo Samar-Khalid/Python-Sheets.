{
 "cells": [
  {
   "cell_type": "markdown",
   "id": "9aace580",
   "metadata": {},
   "source": [
    "### 14. Write a Python program to check whether a list contains a sublist."
   ]
  },
  {
   "cell_type": "code",
   "execution_count": 37,
   "id": "3073fbb2",
   "metadata": {},
   "outputs": [
    {
     "name": "stdout",
     "output_type": "stream",
     "text": [
      "Plz, Enter the list: 1,2,4,5,3,6,8,2,6,5\n",
      "Plz, Enter the subset list: 2,6,10,11\n",
      "Yes, a list [1, 2, 4, 5, 3, 6, 8, 2, 6, 5] doesnot contain a sublist [2, 6, 10, 11] .\n"
     ]
    }
   ],
   "source": [
    "l1 =list(input(\"Plz, Enter the list: \").split(','))\n",
    "l1=[int(x) for x in l1]\n",
    "\n",
    "subl1 =list(input(\"Plz, Enter the subset list: \").split(','))\n",
    "subl1=[int(x) for x in subl1]\n",
    "x=False\n",
    "for i in range(len(l1)):\n",
    "    if l1[i:i+len(subl1)]==subl1 :\n",
    "        print(\"Yes, a list {} contains a sublist {} .\".format(l1,subl1))\n",
    "        x=True\n",
    "        break\n",
    "if x==False:\n",
    "    print(\"Yes, a list {} doesnot contain a sublist {} .\".format(l1,subl1))"
   ]
  },
  {
   "cell_type": "code",
   "execution_count": null,
   "id": "50a1a181",
   "metadata": {},
   "outputs": [],
   "source": []
  }
 ],
 "metadata": {
  "kernelspec": {
   "display_name": "Python 3 (ipykernel)",
   "language": "python",
   "name": "python3"
  },
  "language_info": {
   "codemirror_mode": {
    "name": "ipython",
    "version": 3
   },
   "file_extension": ".py",
   "mimetype": "text/x-python",
   "name": "python",
   "nbconvert_exporter": "python",
   "pygments_lexer": "ipython3",
   "version": "3.9.13"
  }
 },
 "nbformat": 4,
 "nbformat_minor": 5
}
