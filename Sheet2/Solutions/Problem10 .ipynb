{
 "cells": [
  {
   "cell_type": "markdown",
   "id": "fb31576a",
   "metadata": {},
   "source": [
    "### 10. Write a Python program to remove duplicates from a list."
   ]
  },
  {
   "cell_type": "code",
   "execution_count": 16,
   "id": "77ded6bc",
   "metadata": {},
   "outputs": [
    {
     "name": "stdout",
     "output_type": "stream",
     "text": [
      "Plz, Enter the list: 1,4,5,2,6,1,4,2,3,5,4,1,6,2\n"
     ]
    }
   ],
   "source": [
    "#accept the list from user\n",
    "l1 =input(\"Plz, Enter the list: \").split(',')\n",
    "l1=[int(x) for x in l1]\n",
    "\n",
    "s1=set(l1)"
   ]
  },
  {
   "cell_type": "code",
   "execution_count": 17,
   "id": "f1439bed",
   "metadata": {},
   "outputs": [
    {
     "name": "stdout",
     "output_type": "stream",
     "text": [
      "The list without duplicates is:  {1, 2, 3, 4, 5, 6}\n"
     ]
    }
   ],
   "source": [
    "print(\"The list without duplicates is: \", s1)"
   ]
  },
  {
   "cell_type": "code",
   "execution_count": null,
   "id": "09250380",
   "metadata": {},
   "outputs": [],
   "source": []
  }
 ],
 "metadata": {
  "kernelspec": {
   "display_name": "Python 3 (ipykernel)",
   "language": "python",
   "name": "python3"
  },
  "language_info": {
   "codemirror_mode": {
    "name": "ipython",
    "version": 3
   },
   "file_extension": ".py",
   "mimetype": "text/x-python",
   "name": "python",
   "nbconvert_exporter": "python",
   "pygments_lexer": "ipython3",
   "version": "3.9.13"
  }
 },
 "nbformat": 4,
 "nbformat_minor": 5
}
