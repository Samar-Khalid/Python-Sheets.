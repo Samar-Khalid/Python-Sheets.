{
 "cells": [
  {
   "cell_type": "markdown",
   "id": "dd964976",
   "metadata": {},
   "source": [
    "### 12. Write a Python program to convert a list of characters into a string."
   ]
  },
  {
   "cell_type": "code",
   "execution_count": 23,
   "id": "22796b33",
   "metadata": {},
   "outputs": [
    {
     "name": "stdout",
     "output_type": "stream",
     "text": [
      "Plz, Enter the string: s,a,m,a,r\n",
      "samar\n"
     ]
    }
   ],
   "source": [
    "l1 =list(input(\"Plz, Enter the list: \").split(','))\n",
    "\n",
    "sentence=\"\"\n",
    "for i in l1:\n",
    "    sentence+=i\n",
    "print(sentence)"
   ]
  },
  {
   "cell_type": "markdown",
   "id": "01c7d5c3",
   "metadata": {},
   "source": [
    "### OR"
   ]
  },
  {
   "cell_type": "code",
   "execution_count": 24,
   "id": "aba9dace",
   "metadata": {},
   "outputs": [
    {
     "name": "stdout",
     "output_type": "stream",
     "text": [
      "Plz, Enter the string: s,a,m,a,r\n",
      "samar\n"
     ]
    }
   ],
   "source": [
    "l1 =list(input(\"Plz, Enter the list: \").split(','))\n",
    "\n",
    "sentence=\"\".join(l1)\n",
    "\n",
    "print(sentence)"
   ]
  },
  {
   "cell_type": "code",
   "execution_count": null,
   "id": "5bdb3850",
   "metadata": {},
   "outputs": [],
   "source": []
  }
 ],
 "metadata": {
  "kernelspec": {
   "display_name": "Python 3 (ipykernel)",
   "language": "python",
   "name": "python3"
  },
  "language_info": {
   "codemirror_mode": {
    "name": "ipython",
    "version": 3
   },
   "file_extension": ".py",
   "mimetype": "text/x-python",
   "name": "python",
   "nbconvert_exporter": "python",
   "pygments_lexer": "ipython3",
   "version": "3.9.13"
  }
 },
 "nbformat": 4,
 "nbformat_minor": 5
}
