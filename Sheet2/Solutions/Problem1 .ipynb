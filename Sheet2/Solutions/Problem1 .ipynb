{
 "cells": [
  {
   "cell_type": "markdown",
   "id": "4b908bcc",
   "metadata": {},
   "source": [
    "### 1. Write a Python program which accepts a sequence of comma-separated numbers from user and generate a list and a tuple with those numbers.Sample data : 3, 5, 7, 23"
   ]
  },
  {
   "cell_type": "code",
   "execution_count": 2,
   "id": "75b3c64f",
   "metadata": {},
   "outputs": [
    {
     "name": "stdout",
     "output_type": "stream",
     "text": [
      "Plz,Enter a sequence of comma-separated numbers: 3,5,7,23\n",
      "List is:  ['3', '5', '7', '23']\n",
      "tuple is:  ('3', '5', '7', '23')\n"
     ]
    }
   ],
   "source": [
    "sentence = input(\"Plz,Enter a sequence of comma-separated numbers: \")\n",
    "\n",
    "listTest=sentence.split(',')\n",
    "\n",
    "tupleTest=tuple(listTest)\n",
    "\n",
    "print(\"List is: \" , listTest)\n",
    "print(\"tuple is: \" , tupleTest)"
   ]
  },
  {
   "cell_type": "code",
   "execution_count": null,
   "id": "c2c0209e",
   "metadata": {},
   "outputs": [],
   "source": []
  },
  {
   "cell_type": "code",
   "execution_count": null,
   "id": "4b3e3c74",
   "metadata": {},
   "outputs": [],
   "source": []
  },
  {
   "cell_type": "code",
   "execution_count": null,
   "id": "7adf11b3",
   "metadata": {},
   "outputs": [],
   "source": []
  }
 ],
 "metadata": {
  "kernelspec": {
   "display_name": "Python 3 (ipykernel)",
   "language": "python",
   "name": "python3"
  },
  "language_info": {
   "codemirror_mode": {
    "name": "ipython",
    "version": 3
   },
   "file_extension": ".py",
   "mimetype": "text/x-python",
   "name": "python",
   "nbconvert_exporter": "python",
   "pygments_lexer": "ipython3",
   "version": "3.9.13"
  }
 },
 "nbformat": 4,
 "nbformat_minor": 5
}
