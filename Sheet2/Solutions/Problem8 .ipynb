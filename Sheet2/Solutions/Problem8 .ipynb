{
 "cells": [
  {
   "cell_type": "markdown",
   "id": "f7b49095",
   "metadata": {},
   "source": [
    "### 8. Write a Python program to get the largest and the smallest numbers from a list."
   ]
  },
  {
   "cell_type": "code",
   "execution_count": 8,
   "id": "3fad3f49",
   "metadata": {},
   "outputs": [
    {
     "name": "stdout",
     "output_type": "stream",
     "text": [
      "Plz, Enter the list: 1,4,25,3,69,95,1,7\n"
     ]
    }
   ],
   "source": [
    "#accept the list from user\n",
    "l1 =input(\"Plz, Enter the list: \").split(',')\n",
    "l1=[int(x) for x in l1]"
   ]
  },
  {
   "cell_type": "code",
   "execution_count": 9,
   "id": "bb732200",
   "metadata": {},
   "outputs": [
    {
     "name": "stdout",
     "output_type": "stream",
     "text": [
      "The largest number in list is:  95\n",
      "The largest number in list is:  1\n"
     ]
    }
   ],
   "source": [
    "print(\"The largest number in list is: \", max(l1))\n",
    "print(\"The smallest number in list is: \", min(l1))"
   ]
  },
  {
   "cell_type": "code",
   "execution_count": null,
   "id": "ecd915e0",
   "metadata": {},
   "outputs": [],
   "source": []
  }
 ],
 "metadata": {
  "kernelspec": {
   "display_name": "Python 3 (ipykernel)",
   "language": "python",
   "name": "python3"
  },
  "language_info": {
   "codemirror_mode": {
    "name": "ipython",
    "version": 3
   },
   "file_extension": ".py",
   "mimetype": "text/x-python",
   "name": "python",
   "nbconvert_exporter": "python",
   "pygments_lexer": "ipython3",
   "version": "3.9.13"
  }
 },
 "nbformat": 4,
 "nbformat_minor": 5
}
