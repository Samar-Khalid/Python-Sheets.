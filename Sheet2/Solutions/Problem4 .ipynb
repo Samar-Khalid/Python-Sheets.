{
 "cells": [
  {
   "cell_type": "markdown",
   "id": "9b306b55",
   "metadata": {},
   "source": [
    "### 4. Write a Python program to count the number of characters (character frequency) in a string.       Sample String : google.com"
   ]
  },
  {
   "cell_type": "code",
   "execution_count": 15,
   "id": "74e582b8",
   "metadata": {},
   "outputs": [
    {
     "name": "stdout",
     "output_type": "stream",
     "text": [
      "{'g': 2, 'o': 3, 'l': 3, 'e': 2, '.': 1, 'c': 1, 'm': 1}\n"
     ]
    }
   ],
   "source": [
    "# Accept a string from user\n",
    "sentence=input(\"Plz, Enter a sentence: \")\n",
    "\n",
    "#To convert string into dictionnary\n",
    "dic=dict.fromkeys(sentence)\n",
    "\n",
    "#To count the number of characters\n",
    "for i,key in enumerate(dic.keys()):\n",
    "    dic[key]=sentence.count(sentence[i])\n",
    "    \n",
    "print(dic)\n"
   ]
  },
  {
   "cell_type": "code",
   "execution_count": null,
   "id": "23193538",
   "metadata": {},
   "outputs": [],
   "source": []
  },
  {
   "cell_type": "code",
   "execution_count": null,
   "id": "9338983c",
   "metadata": {},
   "outputs": [],
   "source": []
  }
 ],
 "metadata": {
  "kernelspec": {
   "display_name": "Python 3 (ipykernel)",
   "language": "python",
   "name": "python3"
  },
  "language_info": {
   "codemirror_mode": {
    "name": "ipython",
    "version": 3
   },
   "file_extension": ".py",
   "mimetype": "text/x-python",
   "name": "python",
   "nbconvert_exporter": "python",
   "pygments_lexer": "ipython3",
   "version": "3.9.13"
  }
 },
 "nbformat": 4,
 "nbformat_minor": 5
}
