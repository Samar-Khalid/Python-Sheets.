{
 "cells": [
  {
   "cell_type": "markdown",
   "id": "50f3d869",
   "metadata": {},
   "source": [
    "### 5. Write a Python program to find the first appearance of the substring 'not' and 'poor' from a given string, replace the whole 'not'...'poor' substring with 'good'. Return the resulting string.                                                Sample String : 'The lyrics is not that poor!'                                                                                                            Expected Result : 'The lyrics is good!'"
   ]
  },
  {
   "cell_type": "code",
   "execution_count": 1,
   "id": "74e582b8",
   "metadata": {},
   "outputs": [
    {
     "name": "stdout",
     "output_type": "stream",
     "text": [
      "Plz, Enter a sentence: The lyrics is not that poor!\n",
      "The lyrics is good!\n"
     ]
    }
   ],
   "source": [
    "# Accept a string from user\n",
    "sentence=input(\"Plz, Enter a sentence: \")\n",
    "\n",
    "#To find words\n",
    "not_text =sentence.find(\"not\")\n",
    "poor_text =sentence.find(\"poor\")\n",
    "\n",
    "#To count the number of characters\n",
    "if not_text < poor_text:\n",
    "    sentence=sentence[:not_text]+\"good\"+sentence[poor_text+4:]\n",
    "    \n",
    "print(sentence)\n"
   ]
  },
  {
   "cell_type": "code",
   "execution_count": null,
   "id": "23193538",
   "metadata": {},
   "outputs": [],
   "source": []
  },
  {
   "cell_type": "code",
   "execution_count": null,
   "id": "9338983c",
   "metadata": {},
   "outputs": [],
   "source": []
  }
 ],
 "metadata": {
  "kernelspec": {
   "display_name": "Python 3 (ipykernel)",
   "language": "python",
   "name": "python3"
  },
  "language_info": {
   "codemirror_mode": {
    "name": "ipython",
    "version": 3
   },
   "file_extension": ".py",
   "mimetype": "text/x-python",
   "name": "python",
   "nbconvert_exporter": "python",
   "pygments_lexer": "ipython3",
   "version": "3.9.13"
  }
 },
 "nbformat": 4,
 "nbformat_minor": 5
}
