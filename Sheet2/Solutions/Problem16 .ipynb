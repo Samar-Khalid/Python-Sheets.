{
 "cells": [
  {
   "cell_type": "markdown",
   "id": "c9a3efdc",
   "metadata": {},
   "source": [
    "### 16. Write a Python script to add a key to a dictionary.\n",
    "### Sample Dictionary : {0: 10, 1: 20} ,  Expected Result : {0: 10, 1: 20, 2: 30}"
   ]
  },
  {
   "cell_type": "code",
   "execution_count": 37,
   "id": "bf2caf59",
   "metadata": {},
   "outputs": [],
   "source": [
    "diction =  {0: 10, 1: 20}"
   ]
  },
  {
   "cell_type": "code",
   "execution_count": 38,
   "id": "91518dee",
   "metadata": {},
   "outputs": [],
   "source": [
    "# Function to add anew key to dictionary\n",
    "def addToDic (dict,key,value):\n",
    "    dict[key]=value"
   ]
  },
  {
   "cell_type": "code",
   "execution_count": 39,
   "id": "23fe8a0a",
   "metadata": {},
   "outputs": [
    {
     "data": {
      "text/plain": [
       "{0: 10, 1: 20, 2: 30}"
      ]
     },
     "execution_count": 39,
     "metadata": {},
     "output_type": "execute_result"
    }
   ],
   "source": [
    "# Calling The Fuction\n",
    "addToDic(diction,2,30)\n",
    "diction"
   ]
  },
  {
   "cell_type": "code",
   "execution_count": null,
   "id": "d2ed5a69",
   "metadata": {},
   "outputs": [],
   "source": []
  }
 ],
 "metadata": {
  "kernelspec": {
   "display_name": "Python 3 (ipykernel)",
   "language": "python",
   "name": "python3"
  },
  "language_info": {
   "codemirror_mode": {
    "name": "ipython",
    "version": 3
   },
   "file_extension": ".py",
   "mimetype": "text/x-python",
   "name": "python",
   "nbconvert_exporter": "python",
   "pygments_lexer": "ipython3",
   "version": "3.9.13"
  }
 },
 "nbformat": 4,
 "nbformat_minor": 5
}
