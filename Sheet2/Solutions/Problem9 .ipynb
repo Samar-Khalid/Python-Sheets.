{
 "cells": [
  {
   "cell_type": "markdown",
   "id": "36ab11a6",
   "metadata": {},
   "source": [
    "### 9. Write a Python program to get a list, sorted in increasing order by the last element in each tuple from a given list of non-empty tuples. Sample List : [(2, 5), (1, 2), (4, 4), (2, 3), (2, 1)]      Expected Result : [(2, 1), (1, 2), (2, 3), (4, 4), (2, 5)]"
   ]
  },
  {
   "cell_type": "code",
   "execution_count": 11,
   "id": "ac2614d2",
   "metadata": {},
   "outputs": [],
   "source": [
    "l1 =[(2, 5), (1, 2), (4, 4), (2, 3), (2, 1)]"
   ]
  },
  {
   "cell_type": "code",
   "execution_count": 14,
   "id": "4d6d82f9",
   "metadata": {},
   "outputs": [
    {
     "name": "stdout",
     "output_type": "stream",
     "text": [
      "The sorted list is:  [(2, 1), (1, 2), (2, 3), (4, 4), (2, 5)]\n"
     ]
    }
   ],
   "source": [
    "l1=sorted(l1, key=lambda x:x[-1])\n",
    "print(\"The sorted list is: \", l1)"
   ]
  },
  {
   "cell_type": "code",
   "execution_count": null,
   "id": "ff3372bd",
   "metadata": {},
   "outputs": [],
   "source": []
  }
 ],
 "metadata": {
  "kernelspec": {
   "display_name": "Python 3 (ipykernel)",
   "language": "python",
   "name": "python3"
  },
  "language_info": {
   "codemirror_mode": {
    "name": "ipython",
    "version": 3
   },
   "file_extension": ".py",
   "mimetype": "text/x-python",
   "name": "python",
   "nbconvert_exporter": "python",
   "pygments_lexer": "ipython3",
   "version": "3.9.13"
  }
 },
 "nbformat": 4,
 "nbformat_minor": 5
}
