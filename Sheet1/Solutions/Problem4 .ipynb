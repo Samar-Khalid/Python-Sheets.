{
 "cells": [
  {
   "cell_type": "code",
   "execution_count": 16,
   "id": "712aa26c",
   "metadata": {},
   "outputs": [
    {
     "name": "stdout",
     "output_type": "stream",
     "text": [
      "Plz, Enter a string: python\n",
      "Plz, Enter a letter to search: T\n",
      "The letter T is in the string\n"
     ]
    }
   ],
   "source": [
    "string=input(\"Plz, Enter a string: \")\n",
    "letter=input(\"Plz, Enter a letter to search: \")\n",
    "\n",
    "if letter.upper() in string or letter.lower() in string:\n",
    "    print(\"The letter \"+ letter + \" is in the string\")\n",
    "else:\n",
    "    print(\"The letter \"+ letter + \" is not exist in the string\")"
   ]
  },
  {
   "cell_type": "code",
   "execution_count": null,
   "id": "3f7b140d",
   "metadata": {},
   "outputs": [],
   "source": []
  }
 ],
 "metadata": {
  "kernelspec": {
   "display_name": "Python 3 (ipykernel)",
   "language": "python",
   "name": "python3"
  },
  "language_info": {
   "codemirror_mode": {
    "name": "ipython",
    "version": 3
   },
   "file_extension": ".py",
   "mimetype": "text/x-python",
   "name": "python",
   "nbconvert_exporter": "python",
   "pygments_lexer": "ipython3",
   "version": "3.9.13"
  }
 },
 "nbformat": 4,
 "nbformat_minor": 5
}
