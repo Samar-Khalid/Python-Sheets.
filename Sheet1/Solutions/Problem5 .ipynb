{
 "cells": [
  {
   "cell_type": "code",
   "execution_count": 25,
   "id": "28c67de5",
   "metadata": {},
   "outputs": [
    {
     "name": "stdout",
     "output_type": "stream",
     "text": [
      "Plz, Enter a sentence: this is a python sheet\n",
      "this\n",
      "is\n",
      "a\n",
      "python\n",
      "sheet\n"
     ]
    }
   ],
   "source": [
    "string=input(\"Plz, Enter a sentence: \")\n",
    "\n",
    "#split the sentence to words\n",
    "words=string.split()\n",
    "\n",
    "#to print the words\n",
    "for i in words:\n",
    "    print(i)"
   ]
  },
  {
   "cell_type": "code",
   "execution_count": null,
   "id": "0b1887fe",
   "metadata": {},
   "outputs": [],
   "source": []
  }
 ],
 "metadata": {
  "kernelspec": {
   "display_name": "Python 3 (ipykernel)",
   "language": "python",
   "name": "python3"
  },
  "language_info": {
   "codemirror_mode": {
    "name": "ipython",
    "version": 3
   },
   "file_extension": ".py",
   "mimetype": "text/x-python",
   "name": "python",
   "nbconvert_exporter": "python",
   "pygments_lexer": "ipython3",
   "version": "3.9.13"
  }
 },
 "nbformat": 4,
 "nbformat_minor": 5
}
