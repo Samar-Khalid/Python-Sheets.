{
 "cells": [
  {
   "cell_type": "code",
   "execution_count": 13,
   "id": "cb9a864b",
   "metadata": {},
   "outputs": [
    {
     "name": "stdout",
     "output_type": "stream",
     "text": [
      "Plz, Enter a paragraph: this is the python sheet for beginners\n",
      "Plz, Enter a word to search: python\n",
      "The word python is in the paragraph\n"
     ]
    }
   ],
   "source": [
    "para=input(\"Plz, Enter a paragraph: \")\n",
    "word=input(\"Plz, Enter a word to search: \")\n",
    "\n",
    "if word in para:\n",
    "    print(\"The word \"+ word + \" is in the paragraph\")\n",
    "else:\n",
    "    print(\"The word \"+ word + \" is not exist in the paragraph\")"
   ]
  },
  {
   "cell_type": "code",
   "execution_count": null,
   "id": "eda52901",
   "metadata": {},
   "outputs": [],
   "source": []
  }
 ],
 "metadata": {
  "kernelspec": {
   "display_name": "Python 3 (ipykernel)",
   "language": "python",
   "name": "python3"
  },
  "language_info": {
   "codemirror_mode": {
    "name": "ipython",
    "version": 3
   },
   "file_extension": ".py",
   "mimetype": "text/x-python",
   "name": "python",
   "nbconvert_exporter": "python",
   "pygments_lexer": "ipython3",
   "version": "3.9.13"
  }
 },
 "nbformat": 4,
 "nbformat_minor": 5
}
