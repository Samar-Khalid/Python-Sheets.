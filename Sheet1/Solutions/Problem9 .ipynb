{
 "cells": [
  {
   "cell_type": "code",
   "execution_count": 32,
   "id": "da7864c3",
   "metadata": {},
   "outputs": [
    {
     "name": "stdout",
     "output_type": "stream",
     "text": [
      "Plz, Enter a string: abcd\n",
      "The string is: abINGcd\n"
     ]
    }
   ],
   "source": [
    "string =input(\"Plz, Enter a string: \")\n",
    "\n",
    "mid=len(string)//2\n",
    "\n",
    "print(\"The string is: \"   + string[:mid] + \"ING\" + string[mid:] )"
   ]
  },
  {
   "cell_type": "code",
   "execution_count": null,
   "id": "4b1340c3",
   "metadata": {},
   "outputs": [],
   "source": []
  }
 ],
 "metadata": {
  "kernelspec": {
   "display_name": "Python 3 (ipykernel)",
   "language": "python",
   "name": "python3"
  },
  "language_info": {
   "codemirror_mode": {
    "name": "ipython",
    "version": 3
   },
   "file_extension": ".py",
   "mimetype": "text/x-python",
   "name": "python",
   "nbconvert_exporter": "python",
   "pygments_lexer": "ipython3",
   "version": "3.9.13"
  }
 },
 "nbformat": 4,
 "nbformat_minor": 5
}
