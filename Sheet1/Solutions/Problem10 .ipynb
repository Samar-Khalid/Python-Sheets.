{
 "cells": [
  {
   "cell_type": "code",
   "execution_count": 38,
   "id": "9327aab4",
   "metadata": {},
   "outputs": [
    {
     "name": "stdout",
     "output_type": "stream",
     "text": [
      "Plz, Enter a number: 5\n",
      "Plz, Enter a number: 9\n",
      "Plz, Enter a number: 7\n",
      "The largest number is:  9\n"
     ]
    }
   ],
   "source": [
    "num1 =input(\"Plz, Enter a number: \")\n",
    "num2 =input(\"Plz, Enter a number: \")\n",
    "num3 =input(\"Plz, Enter a number: \")\n",
    "\n",
    "if num1>num2 and num1>num3:\n",
    "    print(\"The largest number is: \", num1)\n",
    "elif num2>num1 and num2>num3:\n",
    "    print(\"The largest number is: \", num2)\n",
    "elif num3>num1 and num3>num2: \n",
    "    print(\"The largest number is: \", num3)"
   ]
  },
  {
   "cell_type": "code",
   "execution_count": null,
   "id": "dd8b08f0",
   "metadata": {},
   "outputs": [],
   "source": []
  }
 ],
 "metadata": {
  "kernelspec": {
   "display_name": "Python 3 (ipykernel)",
   "language": "python",
   "name": "python3"
  },
  "language_info": {
   "codemirror_mode": {
    "name": "ipython",
    "version": 3
   },
   "file_extension": ".py",
   "mimetype": "text/x-python",
   "name": "python",
   "nbconvert_exporter": "python",
   "pygments_lexer": "ipython3",
   "version": "3.9.13"
  }
 },
 "nbformat": 4,
 "nbformat_minor": 5
}
