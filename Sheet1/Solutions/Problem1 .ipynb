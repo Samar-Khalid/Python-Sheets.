{
 "cells": [
  {
   "cell_type": "code",
   "execution_count": 5,
   "id": "da15dd7f",
   "metadata": {},
   "outputs": [
    {
     "name": "stdout",
     "output_type": "stream",
     "text": [
      "Plz, Enter the radius: 1.1\n",
      "Area of a circle: 3.7994000000000008\n"
     ]
    }
   ],
   "source": [
    "r=float(input(\"Plz, Enter the radius: \"))\n",
    "Area=3.14*r**2\n",
    "print(\"Area of a circle: \"+ str(Area))"
   ]
  },
  {
   "cell_type": "code",
   "execution_count": null,
   "id": "b4eae995",
   "metadata": {},
   "outputs": [],
   "source": []
  }
 ],
 "metadata": {
  "kernelspec": {
   "display_name": "Python 3 (ipykernel)",
   "language": "python",
   "name": "python3"
  },
  "language_info": {
   "codemirror_mode": {
    "name": "ipython",
    "version": 3
   },
   "file_extension": ".py",
   "mimetype": "text/x-python",
   "name": "python",
   "nbconvert_exporter": "python",
   "pygments_lexer": "ipython3",
   "version": "3.9.13"
  }
 },
 "nbformat": 4,
 "nbformat_minor": 5
}
