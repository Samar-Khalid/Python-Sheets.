{
 "cells": [
  {
   "cell_type": "code",
   "execution_count": 27,
   "id": "57ffa958",
   "metadata": {},
   "outputs": [
    {
     "name": "stdout",
     "output_type": "stream",
     "text": [
      "Plz, Enter a string: samar khaled\n",
      "Plz, Enter an integer number: 22\n",
      "Plz, Enter a double number: 5.5\n",
      "The string is samar khaled , the integer number 22 ,and a double number 5.50 \n",
      "The type of v1 is <class 'str'> , The type of v2 is <class 'int'> ,The type of v3 is <class 'float'> \n"
     ]
    }
   ],
   "source": [
    "v1=input(\"Plz, Enter a string: \")\n",
    "v2=int(input(\"Plz, Enter an integer number: \"))\n",
    "v3=float(input(\"Plz, Enter a double number: \"))\n",
    "\n",
    "print(\"The string is %s , the integer number %d ,and a double number %.2f \" %(v1,v2,v3))\n",
    "print(\"The type of v1 is %s , The type of v2 is %s ,The type of v3 is %s \" %(type(v1),type(v2),type(v3)))"
   ]
  },
  {
   "cell_type": "code",
   "execution_count": null,
   "id": "0ad1d73d",
   "metadata": {},
   "outputs": [],
   "source": []
  }
 ],
 "metadata": {
  "kernelspec": {
   "display_name": "Python 3 (ipykernel)",
   "language": "python",
   "name": "python3"
  },
  "language_info": {
   "codemirror_mode": {
    "name": "ipython",
    "version": 3
   },
   "file_extension": ".py",
   "mimetype": "text/x-python",
   "name": "python",
   "nbconvert_exporter": "python",
   "pygments_lexer": "ipython3",
   "version": "3.9.13"
  }
 },
 "nbformat": 4,
 "nbformat_minor": 5
}
