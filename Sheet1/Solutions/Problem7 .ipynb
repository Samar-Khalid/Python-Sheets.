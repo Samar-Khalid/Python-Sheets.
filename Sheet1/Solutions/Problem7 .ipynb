{
 "cells": [
  {
   "cell_type": "code",
   "execution_count": 28,
   "id": "6fa4ff3b",
   "metadata": {},
   "outputs": [
    {
     "name": "stdout",
     "output_type": "stream",
     "text": [
      "Plz, Enter a string: samar khaled zidan\n",
      "The string without space: samarkhaledzidan\n"
     ]
    }
   ],
   "source": [
    "string =input(\"Plz, Enter a string: \")\n",
    "\n",
    "string=string.replace(\" \",\"\")\n",
    "\n",
    "print(\"The string without space: \" + string)"
   ]
  },
  {
   "cell_type": "code",
   "execution_count": null,
   "id": "8921f330",
   "metadata": {},
   "outputs": [],
   "source": []
  }
 ],
 "metadata": {
  "kernelspec": {
   "display_name": "Python 3 (ipykernel)",
   "language": "python",
   "name": "python3"
  },
  "language_info": {
   "codemirror_mode": {
    "name": "ipython",
    "version": 3
   },
   "file_extension": ".py",
   "mimetype": "text/x-python",
   "name": "python",
   "nbconvert_exporter": "python",
   "pygments_lexer": "ipython3",
   "version": "3.9.13"
  }
 },
 "nbformat": 4,
 "nbformat_minor": 5
}
